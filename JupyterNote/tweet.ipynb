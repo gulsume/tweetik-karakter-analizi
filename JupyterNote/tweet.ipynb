{
 "cells": [
  {
   "cell_type": "code",
   "execution_count": 61,
   "metadata": {},
   "outputs": [],
   "source": [
    "import tweepy\n",
    "import os\n",
    "import pandas as pd\n",
    "\n",
    "# ================ TWITTER ======================\n",
    "\n",
    "def get_user_tweets(api, username, count=200):\n",
    "    tweets = api.user_timeline(username, count=count)\n",
    "    texts = [tweet.text for tweet in tweets]\n",
    "    return texts#twitter authentication\n",
    "\n",
    "def get_tweets():\n",
    "    #twitter authentication\n",
    "    CONSUMER_KEY        =  os.getenv('api-key')\n",
    "    CONSUMER_SECRET     =  os.getenv('api-secret-key')\n",
    "    ACCESS_TOKEN        =  os.getenv('access-token')\n",
    "    ACCESS_TOKEN_SECRET =  os.getenv('access-secret-token')\n",
    "    AUTH = tweepy.OAuthHandler(CONSUMER_KEY, CONSUMER_SECRET)\n",
    "    AUTH.set_access_token(ACCESS_TOKEN, ACCESS_TOKEN_SECRET)\n",
    "    api = tweepy.API(AUTH)    \n",
    "    return(get_user_tweets(api, username),api.get_user(username).name)\n",
    "\n",
    "username=\"vedatmilor\"\n",
    "all_tweets = get_tweets()[0]\n",
    "name = get_tweets()[1]\n"
   ]
  },
  {
   "cell_type": "code",
   "execution_count": 62,
   "metadata": {},
   "outputs": [
    {
     "name": "stdout",
     "output_type": "stream",
     "text": [
      "Total Mention: 114\n",
      "Total Retweet: 5\n",
      "Total Tweet: 81\n"
     ]
    }
   ],
   "source": [
    "mn=0\n",
    "rt=0\n",
    "tw=0\n",
    "\n",
    "mentions=[]\n",
    "retweets=[]\n",
    "tweets=[]\n",
    "\n",
    "for m in all_tweets:\n",
    "    if m[0] == \"@\":\n",
    "        mn = mn + 1\n",
    "        mentions.append(m)\n",
    "    elif m[0:2] == \"RT\":\n",
    "        rt = rt + 1\n",
    "        retweets.append(m)\n",
    "    else:\n",
    "        tw = tw + 1\n",
    "        tweets.append(m)\n",
    "        \n",
    "print(\"Total Mention:\",mn)\n",
    "print(\"Total Retweet:\",rt)\n",
    "print(\"Total Tweet:\",tw)"
   ]
  },
  {
   "cell_type": "code",
   "execution_count": 63,
   "metadata": {},
   "outputs": [
    {
     "name": "stdout",
     "output_type": "stream",
     "text": [
      "                                            Retweets  \\\n",
      "0  RT @kaansezyum: Gökhan'ın 2015 yılından beri i...   \n",
      "1  RT @gastromondiale: NEW ARTICLE! Hegel was the...   \n",
      "2  RT @DenizUlke: Mümtaz hocamız Mülkiye yıllarım...   \n",
      "3  RT @kuminaidoo: It is with great sadness that ...   \n",
      "4  RT @vedatmilor: Roberto Bellomo sık seyahat ed...   \n",
      "\n",
      "                                              Tweets  \\\n",
      "0  Ankara’da yenecek bir şey daha. Döner. Kıyma k...   \n",
      "1  Ankara’dan bir dönerciyi daha https://t.co/CxB...   \n",
      "2  Duyarlı gözükmek için attığım bir twit değil. ...   \n",
      "3  İronisiz cevap isteyenler kavrama yetenekleriy...   \n",
      "4  Michelin’in hissedarları Rehber’in yönetimine ...   \n",
      "\n",
      "                                            Mentions  \n",
      "0  @yenalgoksun Aslında esas sorunlardan biri, Ta...  \n",
      "1  @yenalgoksun Cevap gelmeyince lütfen darılmayı...  \n",
      "2  @AkinUnver @ASAnews Hayır. Tamamen gözardı edi...  \n",
      "3  @epikurcu34 @EmirYargin Mesajlarınız beni mutl...  \n",
      "4  @AyseMitchell @onuravci Ayşe Hanım tam aksine ...  \n"
     ]
    }
   ],
   "source": [
    "df_retweets = pd.DataFrame({'retweets': retweets})\n",
    "df_tweets = pd.DataFrame({'tweets': tweets})\n",
    "df_mentions = pd.DataFrame({'mentions': mentions})\n",
    "\n",
    "df_all=pd.concat([df_retweets,df_tweets,df_mentions],ignore_index=True, axis=1)\n",
    "df_all.columns = [ 'Retweets','Tweets', 'Mentions']\n",
    "\n",
    "print(df_all.head())"
   ]
  },
  {
   "cell_type": "code",
   "execution_count": 65,
   "metadata": {},
   "outputs": [
    {
     "name": "stdout",
     "output_type": "stream",
     "text": [
      "ankara’da yenecek bir şey daha. döner. kıyma kullanmadan hazırlanıp meşe kömürü ateşinde pişiyor. lezzet rehberi’ne… https://t.co/t3w282gmvl\n",
      "ankara’dan bir dönerciyi daha https://t.co/cxbu8jpjar a ekleyeceğiz. biraz geç kaldık çünkü ortaklarından biri ayrı… https://t.co/hevidvtvfj\n",
      "duyarlı gözükmek için attığım bir twit değil. fişleme yok. şakaydı\n",
      "i̇ronisiz cevap isteyenler kavrama yetenekleriyle ilgili imalarla fişlendiği için izninizle bu utanç verici uygulama… https://t.co/tyebc5mn9t\n",
      "michelin’in hissedarları rehber’in yönetimine ciddi baskı uyguluyorlar. çünkü rehber her sene büyük zararlar ediyor… https://t.co/2alcpv5dju\n",
      "restoranları yıldız ile derecelendiren michelin rehberi yine ciddi ithamlarla karşı karşıya. rehber’in asya’dan sor… https://t.co/fyl6qx4vls\n",
      "arkadaşlar bunları yazanlar yazmasın diye paralı olsun demiyorum. böyle keyifli içeriğe sahip bir sitenin bedava olması garip diyorum.\n",
      "böyle içeriklere denk geldikçe bu sitenin hâlâ bedava olmasına ben de şaşırıyorum. https://t.co/yjfbl2t5ua\n",
      "i̇ronisiz cevap isteyenler bunu twitlerinde özellikle rica etsin lütfen.\n",
      "moskova’daki bir çiftlik ineklere sanal gerçeklik gözlüğü ile yaz aylarında çekilmiş tarla görüntülerini izletiyorm… https://t.co/v73o597kso\n",
      "uzun zamandır gözlemlediğim bir şey. twitlerimdeki ironiyi anlamayanların dahi anlamlı etkileşimlerle katkı sağladı… https://t.co/quioqck32v\n",
      "neresi? bunu yapabilen ustalar kaldı mı artık? https://t.co/rfapoa2v6g\n",
      "pardon, san sebastian cheesecake by ali açıkgül olacaktı.\n",
      "az önce beyoğlu 9. noteri ile birlikteydik. kapalı bir zarfı kendisine ilettim. i̇çindeki kağıda san sebastian chees… https://t.co/fplpevyhhi\n",
      "hep defansta kalacak değilim ya! benim de trollemeye hakkım var. evren aybars sordu, ben de uzun uzun cevapladım. k… https://t.co/kijlorttkp\n",
      "pide mevzubahis olmuşken lezzet rehberi’nden iyi birkaç pideciyi de paylaşmak istiyorum. yalan yok, beni de acıktır… https://t.co/re2y0opch2\n",
      "maalesef kötü lokantalarla müşterilerin tercihleri birbirini karşılıklı olarak etkiliyor ve sonuçta kötü iyiyi kovu… https://t.co/1fzajck2lm\n",
      "ama aynı pizza olayında olduğu gibi iş hamur kalitesine gelince mutlak standartlar da var. bütün bunları yazma nede… https://t.co/wdmuohxchb\n",
      "başka alanlarda olduğu gibi gastronomide de kalın bir önyargı duvarı içine hapsoluyoruz. halbuki kendimizi bu kadar… https://t.co/lqfmufhtac\n",
      "bizdeyse durum farklı. yabancıların ülkemiz mutfağını takdir etmesini bekliyoruz ama çoğumuz komşu ilin mutfağını t… https://t.co/crdkuoiydr\n",
      "çeşitlilik ve yöresel zenginlik açısından bize benziyor i̇talya. ama benzemeyen bir yönü şu: i̇talyanlar genel olarak… https://t.co/etd8xzkfq8\n",
      "ülkede tanınan pizza ustaları mevcut. romalı bonci. veronalı bosco. napolili coccia. casertalı pepe. ülkenin farklı… https://t.co/sqyqwlcbrs\n",
      "abd’nin karşı örneği i̇talya. yöresel çeşitlilik i̇talyan mutfağının zenginliğinin temelini oluşturuyor. o yöreye ait… https://t.co/el8k30an9t\n",
      "aslında güzel olan da bu. bu farklılık mutfağımızın zenginliğini oluşturan ana öğe. bunun aksi; standardizasyon. bu… https://t.co/jaul89v2qf\n",
      "çünkü ülkemizde çok yaygın bir lezzet. yaygın ve bölgeden bölgeye farklılıklar var. bırakın bölgeyi, yan yana iki k… https://t.co/3twsmllaz6\n",
      "hemen hepimiz pide seviyoruz ama bu konuda birbirine zıt ve güçlü fikirlerimiz var.zaten her konuda güçlü fikirlere… https://t.co/3mcpm7pog2\n",
      "anjelika hanım ile yaptığımız bu keyifli programı az sonra izleyebilirsiniz.\n",
      "küçükken hayalim sinema yönetmeni olmaktı. ailem ve çevrem “aman oğlum, sonra aç kalırsın” diyerek beni vazgeçirdil… https://t.co/bxovc1lpyc\n",
      "rehber’e eklediğimiz lokanta kabakçı ali. tirit sevenler memnun kalacaktır.  https://t.co/cctxrdmfhp https://t.co/mtzn28ckuk\n",
      "kadın düşmanlığı, cinsiyetçilik, ırkçılık gibi konularda zorlama çok mazeret gördüm ama bu kadar absürt olanını gör… https://t.co/vs9vlohu2b\n",
      "memleketim konya’dan bir restoranı daha https://t.co/cxbu8jpjar’a ekleyeceğiz. lezzet rehberi’ne girecek bu restora… https://t.co/jqenspvcss\n",
      "anjelika hanım ile birlikte keyifli bir program olmuştu. umarım sizler de keyif alırsınız. https://t.co/d95odkobfn\n",
      "çınaraltı künefe’yi tavsiye edenlerin iyi niyetle hareket ettikleri açık. denemediğimi varsaymaları ise üzücü 😀 eve… https://t.co/2atnf6uqpz\n",
      "bence iyi peynir olunca künefe çok özel bir şey. tercihim hiç şerbet koymamak. o zaman çok özel bir börek gibi oluy… https://t.co/athbhcdowe\n",
      "lezzet rehberi’ne antakya’dan bir künefeci eklendi. ferah künefe. yerli halkın sevdiği bir yer ama diğer şehirlerde… https://t.co/8pqxcu2j6h\n",
      "tolga bey haklı. boş yapmışım. napoli pizzası ankara’da yenir. https://t.co/kqlfax6new\n",
      "skenes bence dünyanın en iyi ve ilginç şeflerinden. i̇yi bir avcı. zamanının çoğunu doğada geçirmek istediğinden üç… https://t.co/lbjttkoda4\n",
      "havaalanında bile gerçek napoliten pizza yemişimdir. https://t.co/4y8omslosq\n",
      "çok güzel bir nokta. olağanüstü bir napoli pizzası hamuru ve az sayıdaki malzeme kalitesi ile öne çıkar. bizde ise… https://t.co/jytxhbwp9u\n",
      "bologna havaalanı’nda gerçek napoliten pizza, fiyatlar da çok uygun. herhalde bizim havaalanlarındaki tek kaşarlı t… https://t.co/w2ifg2f9gt\n",
      "luarca i̇spanya’da ziyaret ettiğim iyi bir peynir dükkanı. i̇spanyolcam iyi olmadığı için yüzdelere takılmadan, rahat… https://t.co/kfugcnaqpd\n",
      "gazetede restoranları değerlendirirken 5 üzerinden not veriyorum. çok düşük not verdiğim ve yazının içeriğinde iyi… https://t.co/cccvikem44\n",
      "yazıyı da incelemek isteyenler için linki https://t.co/98iblpmunv\n",
      "gates’e trump’a karşı warren’ı destekleyip desteklemeyeceği soruluyor. tereddütte kalıp şöyle diyor. “i̇kisinden han… https://t.co/actvvu3xxg\n",
      "bill gates demiş ki “yaklaşık 10 milyar dolar vergi ödedim. 20 de öderim, sorun yok. ama 100 dediğinizde işler deği… https://t.co/fytikkcogy\n",
      "bakın abd’deki seçimlerle ilgili bir makale. elizabeth warren demokratların başkan adaylarından biri ve varlıklı in… https://t.co/qcdnx1sx5d\n",
      "3. video. koymayı unutmuştum. https://t.co/alndqahzfz\n",
      "arada soranlar oluyordu. 79 yılında birikim dergisi’nde yayınlanan “emperyalist sistemde kontrol sanayii ve ereğli… https://t.co/ctagis4jsm\n",
      "pilav üstü makarna: £1500 https://t.co/2n8ww0phtf\n",
      "nobel ödülünü hak eden büyük insan ve yazar. öl(dürül)düğünde yıkılmıştım. lütfen okuyun bu mektupları.  yaşam sevg… https://t.co/hz39cdaxpu\n",
      "thanks for all the great questions! #vedatmilorcevaplıyor https://t.co/w8t9yejwot\n",
      "q: #vedatmilorcevaplıyor vedat milor'a soruyorum; kastamonu pastırması mı kayseri mi? \n",
      "https://t.co/x3w7qhymav…\n",
      "-… https://t.co/fqsccorz0v\n",
      "q: #vedatmilorcevaplıyor, @mutlumutfaklar marul neden yemekte kullanılmıyor? daha doğrusu pişirilmiyor?… https://t.co/kl3r56bj0c\n",
      "q: #vedatmilorcevaplıyor @mutlumutfaklar vedat abi hiç kötü bir yemek yiyip karşınızdakini kırmamak için çok güzel… https://t.co/rfjxsiw2oa\n",
      "q: #vedatmilorcevaplıyor, @mutlumutfaklar uluslar arası bir yarışma olsa ve türkiye yi temsilen bir yemek bu yarışm… https://t.co/xnehwyymsd\n",
      "q: #vedatmilorcevaplıyor, @mutlumutfaklar\n",
      "can irenle birbirinize gönderdiğiniz mektuplar ve yazdığınız şiirler/öykü… https://t.co/njfv0kmqsi\n",
      "q: #vedatmilorcevaplıyor, @vedatmilor sizce türk mutfağında hazırlık aşamasından servise en çok bulaşığa sebep olan… https://t.co/0rsidjevki\n",
      "q: #vedatmilorcevaplıyor, @mutlumutfaklar nasıl bu kadar samimi ve mütevazi kalmayı başarıyorsunuz😊… https://t.co/onzawgtfgn\n",
      "q: turk gastronomisine sizce yeterince yatirim yapiliyor mu ? sizce michelin yildizi adayi restoranlarimiz var mi ?… https://t.co/a2wtxayuqm\n",
      "q: #vedatmilorcevaplıyor, @mutlumutfaklar\n",
      "https://t.co/x3w7qhymav…\n",
      "en merak ettiğim konu etin yaşı gerçekten tahmin… https://t.co/jrqwaffdzv\n",
      "q: #vedatmilorcevaplıyor, her şey bir yana o bir yana dediğiniz yemek nedir? 😀 @mutlumutfaklar… https://t.co/dedka7huuy\n",
      "q: #vedatmilorcevaplıyor, @mutlumutfaklar https://t.co/x3w7qhymav… eski programlarınızda mekan sahipleriyle yemek y… https://t.co/kbz1awxesl\n",
      "q: #vedatmilorcevaplıyor, @mutlumutfaklar  sizin gurmeliğinizi doğuştan beri süregelen bir yetenek olarak nitelendi… https://t.co/nrrokvqblb\n",
      "#vedatmilorcevaplıyor\n",
      "bugün saat 2’de görüşmek üzere. güzel sorular birikti. daha da sorularınız varsa lütfen iletmeye devam edin. https://t.co/3g7c78vfyz\n",
      "2. video https://t.co/anpeastthn\n",
      "genelleme yapamam ama türk ve yabancı şefler arasındaki bir farkı gözlemledim. birkaç video ile paylaşayım. https://t.co/b5a9ykxdqp\n",
      "yemek tarifinin, yemeğin yapıldığı yerin isim hakkına sahip olmak diye bir şey olur mu? amerika’da olmaz ama ülkemd… https://t.co/asbbkzqhnd\n",
      "https://t.co/cxbu8jpjar adresindeki ‘lezzet rehberi’mde de yazmıştım. kanımca i̇spanya’nın bask bölgesindeki en iyi… https://t.co/sjnlm6akpl\n",
      "cheesecake ise milattan epey önceye, eski yunan’a dayanıyor. ben san sebastian’da cheesecake yediğimde, onlar genel… https://t.co/wedpmiv1o4\n",
      "öte yandan, i̇skender tescilli. bu da mantıklı çünkü tarihsel ve kültürel nedenleri var. hiç kimse çıkıp “hayır, o b… https://t.co/7xs8zshalq\n",
      "marka tesciliyse farklı tabii. her türlü şirketin adını koruma altına almak mantıklı. amaç, bir şirket başarılıysa… https://t.co/wjjwmuh1v9\n",
      "stanford üniversitesi’nde hukuk okurken, bunun gerekçesini prof. john h. barton şöyle açıklamıştı: “yeni keşifler z… https://t.co/acgo3wpexy\n",
      "“tesci̇lli̇ markadir. i̇zi̇nsi̇z kullanilamaz.” patent ile marka tescili farklı şeyler. olay açıklığa kavuşuyor. i̇şletme… https://t.co/omjlw5eu1x\n",
      "bu takipçim hem ciddi hem de cesur. i̇ş olsun diye bir şeyler yazdığını görmedim daha önce. “gerçekten mi?” diye sor… https://t.co/byyowbrlqo\n",
      "takipçilerimden biri instagram’a koyduğum tatlı videosunun üzerine yorum yazmış: “i̇ki şef ankara’da ‘i̇lk biz patent… https://t.co/mantrybgxk\n",
      "tüm güzel mesajlarınız için teşekkür ederim. sizden gelen soruları daha iyi değerlendirmek için soru&amp;cevap etkinliğ… https://t.co/vvtqmvg6oz\n",
      "burada farklı konularda güzel paylaşımlarımız oluyor. sorularınıza da zaman elverdiği oranda cevap veriyorum. bu cu… https://t.co/t1ezboitpv\n",
      "daha isabetli tahmin yapmayı sağlayan uydu hesaplamalarına göre haberler iyi değil. i̇klim değişiklikleri nedeniyle… https://t.co/eoepmbshlq\n",
      "https://t.co/y0pj4b0gkd\n",
      "cumhuriyet bayramı kutlu olsun! #cumhuriyetimiz96yaşında https://t.co/jxhnxepgfg\n",
      "nan\n",
      "nan\n",
      "nan\n",
      "nan\n",
      "nan\n",
      "nan\n",
      "nan\n",
      "nan\n",
      "nan\n",
      "nan\n",
      "nan\n",
      "nan\n",
      "nan\n",
      "nan\n",
      "nan\n",
      "nan\n",
      "nan\n",
      "nan\n",
      "nan\n",
      "nan\n",
      "nan\n",
      "nan\n",
      "nan\n",
      "nan\n",
      "nan\n",
      "nan\n",
      "nan\n",
      "nan\n",
      "nan\n",
      "nan\n",
      "nan\n",
      "nan\n",
      "nan\n"
     ]
    }
   ],
   "source": [
    "df_all= df_all.applymap(lambda s:s.lower() if type(s) == str else s)\n",
    "\n",
    "for m in df_all['Tweets']:\n",
    "    print(m)"
   ]
  },
  {
   "cell_type": "code",
   "execution_count": 66,
   "metadata": {},
   "outputs": [],
   "source": [
    "disa_donuk=['!',\"konser\",\"arkadaş\",\"oley\",'hadi',\"hey\",'tatlım','canım','kuzum','bebek','bebeğim','mükemmel','şaka',\n",
    "            'selam','kutlarım','sosyal']\n",
    "ice_donuk=['yalnız','keşke','pişman','ağla','gözyaşı','utanç','hayır','peki','belki','bilgilendirici','ciddi']\n",
    "\n",
    "gercekci=['mümkün','net','olamaz','olur','oldu','olacak','tamam']\n",
    "sezgisel=['belki','muhtemelen','acaba','ihtimal','his','düş','rüya','sevgi','sevmek','sezgi','seviyorum','hayranım',\n",
    "         'gerçeklik']\n",
    "\n",
    "dusunen=['düşünce','düşünüyorum','aslında','mantıklı','doğru','yanlış','tespit','olmalı','tahmin','anlamlı','manalı','şüpheli',\n",
    "         'şüpheci','çünkü']\n",
    "hassas=['kırık','buruk','hüzün','kırgın','ağla','yeterince','teşekkür','hassas','kırılgan']\n",
    "\n",
    "sorgulayan=['neden','ne','nerede','niçin''ara','zaman','saat','ilk','son','net']\n",
    "algılari_acik=['öğrendim','öğretici','bence',]\n",
    "\n",
    "#Dışa dönük / Gerçekçi / Düşünen / Sorgulayan\n",
    "Kisilik_1=[]\n",
    "\n",
    "#İçe dönük / Gerçekçi / Düşünen / Sorgulayan\n",
    "Kisilik_2=[]\n",
    "\n",
    "#Dışa dönük / Gerçekçi / Hassas / Sorgulayan\n",
    "Kisilik_3=[]\n",
    "\n",
    "#İçe dönük / Gerçekçi / Hassas / Sorgulayan\n",
    "Kisilik_4=[]"
   ]
  },
  {
   "cell_type": "code",
   "execution_count": 67,
   "metadata": {},
   "outputs": [],
   "source": [
    "total_disa_donuk = df_all['Tweets'].str.contains('|'.join(disa_donuk))\n",
    "total_ice_donuk = df_all['Tweets'].str.contains('|'.join(ice_donuk))\n",
    "\n",
    "total_gercekci = df_all['Tweets'].str.contains('|'.join(gercekci))\n",
    "total_sezgisel = df_all['Tweets'].str.contains('|'.join(sezgisel))\n",
    "\n",
    "total_dusunen = df_all['Tweets'].str.contains('|'.join(dusunen))\n",
    "total_hassas = df_all['Tweets'].str.contains('|'.join(hassas))\n",
    "                                           \n",
    "total_sorgulayan = df_all['Tweets'].str.contains('|'.join(sorgulayan))\n",
    "total_algılari_acik = df_all['Tweets'].str.contains('|'.join(algılari_acik)) \n",
    "\n"
   ]
  },
  {
   "cell_type": "code",
   "execution_count": 69,
   "metadata": {},
   "outputs": [
    {
     "name": "stdout",
     "output_type": "stream",
     "text": [
      "  disa_donuk ice_donuk gercekci sezgisel dusunen hassas sorgulayan  \\\n",
      "0      False     False    False    False   False  False       True   \n",
      "1      False     False    False    False    True  False       True   \n",
      "2       True     False    False    False   False  False      False   \n",
      "3      False      True    False    False   False  False       True   \n",
      "4      False      True     True     True    True  False       True   \n",
      "5      False      True    False    False   False  False       True   \n",
      "6       True     False    False    False   False  False      False   \n",
      "7      False     False    False    False   False  False      False   \n",
      "8      False     False    False    False   False  False      False   \n",
      "9      False     False    False     True   False  False       True   \n",
      "\n",
      "  algılari_acik  \n",
      "0         False  \n",
      "1         False  \n",
      "2         False  \n",
      "3         False  \n",
      "4         False  \n",
      "5         False  \n",
      "6         False  \n",
      "7         False  \n",
      "8         False  \n",
      "9         False  \n"
     ]
    }
   ],
   "source": [
    "df_total=pd.concat([total_disa_donuk,total_ice_donuk,total_gercekci,total_sezgisel,total_dusunen,total_hassas,total_sorgulayan,total_algılari_acik],ignore_index=True, axis=1)\n",
    "df_total.columns = [ 'disa_donuk','ice_donuk','gercekci','sezgisel','dusunen','hassas','sorgulayan','algılari_acik']                                         \n",
    "\n",
    "print(df_total.head(10))"
   ]
  },
  {
   "cell_type": "code",
   "execution_count": 70,
   "metadata": {},
   "outputs": [
    {
     "name": "stdout",
     "output_type": "stream",
     "text": [
      "İçe Dönük...\n"
     ]
    }
   ],
   "source": [
    "Dıs=df_total['disa_donuk'][df_total['disa_donuk']==True].count().sum()\n",
    "Ic=df_total['ice_donuk'][df_total['ice_donuk']==True].count().sum()\n",
    "\n",
    "if(Dıs>Ic):\n",
    "    print(\"Dışa Dönük ! \")\n",
    "elif(Dıs==Ic):\n",
    "    print(\"Dengeli.\")\n",
    "else:\n",
    "    print(\"İçe Dönük...\")"
   ]
  },
  {
   "cell_type": "code",
   "execution_count": 71,
   "metadata": {},
   "outputs": [
    {
     "name": "stdout",
     "output_type": "stream",
     "text": [
      "Gerçekçi ! \n"
     ]
    }
   ],
   "source": [
    "G=df_total['gercekci'][df_total['gercekci']==True].count().sum()\n",
    "S=df_total['sezgisel'][df_total['sezgisel']==True].count().sum()\n",
    "\n",
    "if(G>S):\n",
    "    print(\"Gerçekçi ! \")\n",
    "elif(D==İ):\n",
    "    print(\"Dengeli.\")\n",
    "else:\n",
    "    print(\"Sezgisel...\")"
   ]
  },
  {
   "cell_type": "code",
   "execution_count": 72,
   "metadata": {},
   "outputs": [
    {
     "name": "stdout",
     "output_type": "stream",
     "text": [
      "Düşünen..\n"
     ]
    }
   ],
   "source": [
    "D=df_total['dusunen'][df_total['dusunen']==True].count().sum()\n",
    "H=df_total['hassas'][df_total['hassas']==True].count().sum()\n",
    "\n",
    "if(D>H):\n",
    "    print(\"Düşünen..\")\n",
    "elif(D==İ):\n",
    "    print(\"Dengeli.\")\n",
    "else:\n",
    "    print(\"Hassas...\")"
   ]
  },
  {
   "cell_type": "code",
   "execution_count": 73,
   "metadata": {},
   "outputs": [
    {
     "name": "stdout",
     "output_type": "stream",
     "text": [
      "Sorgulayan..\n"
     ]
    }
   ],
   "source": [
    "Sor=df_total['sorgulayan'][df_total['sorgulayan']==True].count().sum()\n",
    "Alg=df_total['algılari_acik'][df_total['algılari_acik']==True].count().sum()\n",
    "\n",
    "if(Sor>Alg):\n",
    "    print(\"Sorgulayan..\")\n",
    "elif(Sor==Alg):\n",
    "    print(\"Dengeli.\")\n",
    "else:\n",
    "    print(\"Algıları Açık...\")"
   ]
  },
  {
   "cell_type": "code",
   "execution_count": null,
   "metadata": {},
   "outputs": [],
   "source": []
  },
  {
   "cell_type": "code",
   "execution_count": null,
   "metadata": {},
   "outputs": [],
   "source": []
  }
 ],
 "metadata": {
  "kernelspec": {
   "display_name": "Python 3",
   "language": "python",
   "name": "python3"
  },
  "language_info": {
   "codemirror_mode": {
    "name": "ipython",
    "version": 3
   },
   "file_extension": ".py",
   "mimetype": "text/x-python",
   "name": "python",
   "nbconvert_exporter": "python",
   "pygments_lexer": "ipython3",
   "version": "3.7.4"
  }
 },
 "nbformat": 4,
 "nbformat_minor": 2
}
